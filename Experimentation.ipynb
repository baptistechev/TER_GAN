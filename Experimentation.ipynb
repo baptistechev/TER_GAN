{
  "nbformat": 4,
  "nbformat_minor": 0,
  "metadata": {
    "colab": {
      "name": "Experimentation.ipynb",
      "provenance": [],
      "collapsed_sections": [
        "qDYWIeQm1iWr",
        "mrmafisA2m7V",
        "m6EjKjXb1pcM",
        "hJlLI5bm1p90",
        "TC8feaSy516h"
      ]
    },
    "kernelspec": {
      "name": "python3",
      "display_name": "Python 3"
    }
  },
  "cells": [
    {
      "cell_type": "code",
      "metadata": {
        "id": "_qKCJCAmsQm_"
      },
      "source": [
        "from google.colab import drive\n",
        "drive.mount('/content/gdrive/')\n",
        "%cd /content/gdrive/My Drive/Colab Notebooks/\n",
        "%ls"
      ],
      "execution_count": null,
      "outputs": []
    },
    {
      "cell_type": "markdown",
      "metadata": {
        "id": "qDYWIeQm1iWr"
      },
      "source": [
        "# Set-UP\n"
      ]
    },
    {
      "cell_type": "code",
      "metadata": {
        "colab": {
          "base_uri": "https://localhost:8080/"
        },
        "id": "qRKJq32B1QVG",
        "outputId": "dec2ac4d-5d50-45fe-da15-cd7c877dcddf"
      },
      "source": [
        "# Importation des différentes librairies utiles pour le notebook\n",
        "\n",
        "#Sickit learn met régulièrement à jour des versions et \n",
        "#indique des futurs warnings. \n",
        "#ces deux lignes permettent de ne pas les afficher.\n",
        "import warnings\n",
        "warnings.filterwarnings(\"ignore\", category=FutureWarning)\n",
        "\n",
        "# librairies générales\n",
        "import pickle # pour charger le modèle\n",
        "import pandas as pd\n",
        "import string\n",
        "from random import randint\n",
        "import re\n",
        "from tabulate import tabulate\n",
        "import time\n",
        "import numpy as np\n",
        "import base64\n",
        "\n",
        "# librairie affichage\n",
        "import matplotlib.pyplot as plt\n",
        "import seaborn as sns\n",
        "\n",
        "\n",
        "# librairies scikit learn\n",
        "from sklearn.feature_extraction.text import TfidfVectorizer\n",
        "from sklearn.metrics import accuracy_score\n",
        "from sklearn.metrics import confusion_matrix\n",
        "from sklearn.metrics import classification_report\n",
        "from sklearn.model_selection import train_test_split\n",
        "from sklearn.base import BaseEstimator, TransformerMixin\n",
        "from sklearn.pipeline import Pipeline\n",
        "from sklearn.svm import SVC\n",
        "\n",
        "# librairies associées à NLTK\n",
        "from nltk.stem import WordNetLemmatizer\n",
        "from nltk.stem import PorterStemmer \n",
        "from nltk.corpus import stopwords\n",
        "from nltk import word_tokenize\n",
        "import nltk\n",
        "nltk.download('punkt')\n",
        "nltk.download('wordnet')\n",
        "nltk.download('stopwords')\n",
        "\n",
        "stop_words = set(stopwords.words('english'))\n",
        "\n",
        "from MyNLPUtilities import *\n",
        "from CleanText2 import *\n"
      ],
      "execution_count": 6,
      "outputs": [
        {
          "output_type": "stream",
          "text": [
            "[nltk_data] Downloading package punkt to /root/nltk_data...\n",
            "[nltk_data]   Package punkt is already up-to-date!\n",
            "[nltk_data] Downloading package wordnet to /root/nltk_data...\n",
            "[nltk_data]   Package wordnet is already up-to-date!\n",
            "[nltk_data] Downloading package stopwords to /root/nltk_data...\n",
            "[nltk_data]   Package stopwords is already up-to-date!\n"
          ],
          "name": "stdout"
        }
      ]
    },
    {
      "cell_type": "markdown",
      "metadata": {
        "id": "mrmafisA2m7V"
      },
      "source": [
        "# Jeu de données"
      ]
    },
    {
      "cell_type": "markdown",
      "metadata": {
        "id": "wUZGPPzk8kGz"
      },
      "source": [
        "**DONNÉES D'ENTRAINEMENT**"
      ]
    },
    {
      "cell_type": "code",
      "metadata": {
        "colab": {
          "base_uri": "https://localhost:8080/",
          "height": 0
        },
        "id": "9hALKsGi2q1e",
        "outputId": "2a0c072f-0a92-44e8-cc41-88e570238a01"
      },
      "source": [
        "# df_train = pd.read_csv(\"movie_data.csv\", names=['sentence','sentiment'], header=0,sep=',', encoding='utf8')\n",
        "df_train = pd.read_csv(\"ReviewsLabelled.csv\", names=['sentence','sentiment','source'], header=0,sep='\\t', encoding='utf8')\n",
        "\n",
        "print (\"les 10 premières lignes du fichier :\")\n",
        "display(df_train[0:10])\n",
        "print (\"la taille du fichier : \", df_train.shape)\n",
        "print (\"le nombre d'avis différents : \\n\",df_train['sentiment'].value_counts(),'\\n')\n",
        "print (\"Un exemple d'avis \\n\",df_train['sentence'][0],'\\n')"
      ],
      "execution_count": 7,
      "outputs": [
        {
          "output_type": "stream",
          "text": [
            "les 10 premières lignes du fichier :\n"
          ],
          "name": "stdout"
        },
        {
          "output_type": "display_data",
          "data": {
            "text/html": [
              "<div>\n",
              "<style scoped>\n",
              "    .dataframe tbody tr th:only-of-type {\n",
              "        vertical-align: middle;\n",
              "    }\n",
              "\n",
              "    .dataframe tbody tr th {\n",
              "        vertical-align: top;\n",
              "    }\n",
              "\n",
              "    .dataframe thead th {\n",
              "        text-align: right;\n",
              "    }\n",
              "</style>\n",
              "<table border=\"1\" class=\"dataframe\">\n",
              "  <thead>\n",
              "    <tr style=\"text-align: right;\">\n",
              "      <th></th>\n",
              "      <th>sentence</th>\n",
              "      <th>sentiment</th>\n",
              "      <th>source</th>\n",
              "    </tr>\n",
              "  </thead>\n",
              "  <tbody>\n",
              "    <tr>\n",
              "      <th>0</th>\n",
              "      <td>So there is no way for me to plug it in here i...</td>\n",
              "      <td>0</td>\n",
              "      <td>amazon</td>\n",
              "    </tr>\n",
              "    <tr>\n",
              "      <th>1</th>\n",
              "      <td>Good case, Excellent value.</td>\n",
              "      <td>1</td>\n",
              "      <td>amazon</td>\n",
              "    </tr>\n",
              "    <tr>\n",
              "      <th>2</th>\n",
              "      <td>Great for the jawbone.</td>\n",
              "      <td>1</td>\n",
              "      <td>amazon</td>\n",
              "    </tr>\n",
              "    <tr>\n",
              "      <th>3</th>\n",
              "      <td>Tied to charger for conversations lasting more...</td>\n",
              "      <td>0</td>\n",
              "      <td>amazon</td>\n",
              "    </tr>\n",
              "    <tr>\n",
              "      <th>4</th>\n",
              "      <td>The mic is great.</td>\n",
              "      <td>1</td>\n",
              "      <td>amazon</td>\n",
              "    </tr>\n",
              "    <tr>\n",
              "      <th>5</th>\n",
              "      <td>I have to jiggle the plug to get it to line up...</td>\n",
              "      <td>0</td>\n",
              "      <td>amazon</td>\n",
              "    </tr>\n",
              "    <tr>\n",
              "      <th>6</th>\n",
              "      <td>If you have several dozen or several hundred c...</td>\n",
              "      <td>0</td>\n",
              "      <td>amazon</td>\n",
              "    </tr>\n",
              "    <tr>\n",
              "      <th>7</th>\n",
              "      <td>If you are Razr owner...you must have this!</td>\n",
              "      <td>1</td>\n",
              "      <td>amazon</td>\n",
              "    </tr>\n",
              "    <tr>\n",
              "      <th>8</th>\n",
              "      <td>Needless to say, I wasted my money.</td>\n",
              "      <td>0</td>\n",
              "      <td>amazon</td>\n",
              "    </tr>\n",
              "    <tr>\n",
              "      <th>9</th>\n",
              "      <td>What a waste of money and time!.</td>\n",
              "      <td>0</td>\n",
              "      <td>amazon</td>\n",
              "    </tr>\n",
              "  </tbody>\n",
              "</table>\n",
              "</div>"
            ],
            "text/plain": [
              "                                            sentence  sentiment  source\n",
              "0  So there is no way for me to plug it in here i...          0  amazon\n",
              "1                        Good case, Excellent value.          1  amazon\n",
              "2                             Great for the jawbone.          1  amazon\n",
              "3  Tied to charger for conversations lasting more...          0  amazon\n",
              "4                                  The mic is great.          1  amazon\n",
              "5  I have to jiggle the plug to get it to line up...          0  amazon\n",
              "6  If you have several dozen or several hundred c...          0  amazon\n",
              "7        If you are Razr owner...you must have this!          1  amazon\n",
              "8                Needless to say, I wasted my money.          0  amazon\n",
              "9                   What a waste of money and time!.          0  amazon"
            ]
          },
          "metadata": {
            "tags": []
          }
        },
        {
          "output_type": "stream",
          "text": [
            "la taille du fichier :  (3000, 3)\n",
            "le nombre d'avis différents : \n",
            " 1    1500\n",
            "0    1500\n",
            "Name: sentiment, dtype: int64 \n",
            "\n",
            "Un exemple d'avis \n",
            " So there is no way for me to plug it in here in the US unless I go by a converter. \n",
            "\n"
          ],
          "name": "stdout"
        }
      ]
    },
    {
      "cell_type": "markdown",
      "metadata": {
        "id": "NqULI4h98q4S"
      },
      "source": [
        "**DONNÉES DE TEST**"
      ]
    },
    {
      "cell_type": "code",
      "metadata": {
        "id": "lblQrNjH8xG0",
        "colab": {
          "base_uri": "https://localhost:8080/",
          "height": 0
        },
        "outputId": "e47f41ff-7c23-4c08-9b6c-71ff5ef777e4"
      },
      "source": [
        "df_test = pd.read_csv(\"movie_data.csv\", names=['review','sentiment'], header=0,sep=',', encoding='utf8')\n",
        "display(df_test[0:10])"
      ],
      "execution_count": 8,
      "outputs": [
        {
          "output_type": "display_data",
          "data": {
            "text/html": [
              "<div>\n",
              "<style scoped>\n",
              "    .dataframe tbody tr th:only-of-type {\n",
              "        vertical-align: middle;\n",
              "    }\n",
              "\n",
              "    .dataframe tbody tr th {\n",
              "        vertical-align: top;\n",
              "    }\n",
              "\n",
              "    .dataframe thead th {\n",
              "        text-align: right;\n",
              "    }\n",
              "</style>\n",
              "<table border=\"1\" class=\"dataframe\">\n",
              "  <thead>\n",
              "    <tr style=\"text-align: right;\">\n",
              "      <th></th>\n",
              "      <th>review</th>\n",
              "      <th>sentiment</th>\n",
              "    </tr>\n",
              "  </thead>\n",
              "  <tbody>\n",
              "    <tr>\n",
              "      <th>0</th>\n",
              "      <td>I went and saw this movie last night after bei...</td>\n",
              "      <td>1</td>\n",
              "    </tr>\n",
              "    <tr>\n",
              "      <th>1</th>\n",
              "      <td>Actor turned director Bill Paxton follows up h...</td>\n",
              "      <td>1</td>\n",
              "    </tr>\n",
              "    <tr>\n",
              "      <th>2</th>\n",
              "      <td>As a recreational golfer with some knowledge o...</td>\n",
              "      <td>1</td>\n",
              "    </tr>\n",
              "    <tr>\n",
              "      <th>3</th>\n",
              "      <td>I saw this film in a sneak preview, and it is ...</td>\n",
              "      <td>1</td>\n",
              "    </tr>\n",
              "    <tr>\n",
              "      <th>4</th>\n",
              "      <td>Bill Paxton has taken the true story of the 19...</td>\n",
              "      <td>1</td>\n",
              "    </tr>\n",
              "    <tr>\n",
              "      <th>5</th>\n",
              "      <td>I saw this film on September 1st, 2005 in Indi...</td>\n",
              "      <td>1</td>\n",
              "    </tr>\n",
              "    <tr>\n",
              "      <th>6</th>\n",
              "      <td>Maybe I'm reading into this too much, but I wo...</td>\n",
              "      <td>1</td>\n",
              "    </tr>\n",
              "    <tr>\n",
              "      <th>7</th>\n",
              "      <td>I felt this film did have many good qualities....</td>\n",
              "      <td>1</td>\n",
              "    </tr>\n",
              "    <tr>\n",
              "      <th>8</th>\n",
              "      <td>This movie is amazing because the fact that th...</td>\n",
              "      <td>1</td>\n",
              "    </tr>\n",
              "    <tr>\n",
              "      <th>9</th>\n",
              "      <td>\"Quitting\" may be as much about exiting a pre-...</td>\n",
              "      <td>1</td>\n",
              "    </tr>\n",
              "  </tbody>\n",
              "</table>\n",
              "</div>"
            ],
            "text/plain": [
              "                                              review  sentiment\n",
              "0  I went and saw this movie last night after bei...          1\n",
              "1  Actor turned director Bill Paxton follows up h...          1\n",
              "2  As a recreational golfer with some knowledge o...          1\n",
              "3  I saw this film in a sneak preview, and it is ...          1\n",
              "4  Bill Paxton has taken the true story of the 19...          1\n",
              "5  I saw this film on September 1st, 2005 in Indi...          1\n",
              "6  Maybe I'm reading into this too much, but I wo...          1\n",
              "7  I felt this film did have many good qualities....          1\n",
              "8  This movie is amazing because the fact that th...          1\n",
              "9  \"Quitting\" may be as much about exiting a pre-...          1"
            ]
          },
          "metadata": {
            "tags": []
          }
        }
      ]
    },
    {
      "cell_type": "markdown",
      "metadata": {
        "id": "m6EjKjXb1pcM"
      },
      "source": [
        "# Pré-Traitement\n"
      ]
    },
    {
      "cell_type": "markdown",
      "metadata": {
        "id": "SqOQzKPi2b4m"
      },
      "source": [
        "**CLEANER**"
      ]
    },
    {
      "cell_type": "code",
      "metadata": {
        "colab": {
          "base_uri": "https://localhost:8080/"
        },
        "id": "nUFRXyv817IW",
        "outputId": "6c4cbdf1-f5b7-4a4a-f044-5403cff11a21"
      },
      "source": [
        "from sklearn.base import BaseEstimator, TransformerMixin\n",
        "import re\n",
        "import string\n",
        "\n",
        "import nltk\n",
        "from nltk.stem import WordNetLemmatizer\n",
        "from nltk.stem import PorterStemmer \n",
        "from nltk.corpus import stopwords\n",
        "from nltk import word_tokenize\n",
        "\n",
        "nltk.download('wordnet')\n",
        "nltk.download('stopwords')\n",
        "nltk.download('punkt')\n",
        "stop_words = set(stopwords.words('english')) \n",
        "\n",
        "def MyCleanText(X, \n",
        "               lowercase=False, # mettre en minuscule\n",
        "               removestopwords=False, # supprimer les stopwords\n",
        "               removedigit=False, # supprimer les nombres  \n",
        "               getstemmer=False, # conserver la racine des termes\n",
        "               getlemmatisation=False # lematisation des termes \n",
        "              ):\n",
        "    \n",
        "    sentence=str(X)\n",
        "\n",
        "    # suppression des caractères spéciaux\n",
        "    sentence = re.sub(r'[^\\w\\s]',' ', sentence)\n",
        "    # suppression de tous les caractères uniques\n",
        "    sentence = re.sub(r'\\s+[a-zA-Z]\\s+', ' ', sentence)\n",
        "    # substitution des espaces multiples par un seul espace\n",
        "    sentence = re.sub(r'\\s+', ' ', sentence, flags=re.I)\n",
        "\n",
        "    # decoupage en mots\n",
        "    tokens = word_tokenize(sentence)\n",
        "    if lowercase:\n",
        "          tokens = [token.lower() for token in tokens]\n",
        "\n",
        "    # suppression ponctuation\n",
        "    table = str.maketrans('', '', string.punctuation)\n",
        "    words = [token.translate(table) for token in tokens]\n",
        "\n",
        "    # suppression des tokens non alphabetique ou numerique\n",
        "    words = [word for word in words if word.isalnum()]\n",
        "    \n",
        "    # suppression des tokens numerique\n",
        "    if removedigit:\n",
        "        words = [word for word in words if not word.isdigit()]\n",
        "\n",
        "    # suppression des stopwords\n",
        "    if removestopwords:\n",
        "        words = [word for word in words if not word in stop_words]\n",
        "\n",
        "    # lemmatisation\n",
        "    if getlemmatisation:\n",
        "        lemmatizer=WordNetLemmatizer()\n",
        "        words = [lemmatizer.lemmatize(word)for word in words]\n",
        "        \n",
        "\n",
        "    # racinisation\n",
        "    if getstemmer:\n",
        "        ps = PorterStemmer()\n",
        "        words=[ps.stem(word) for word in words]\n",
        "        \n",
        "    sentence= ' '.join(words)\n",
        "  \n",
        "    return sentence   \n",
        "\n",
        "class TextNormalizer(BaseEstimator, TransformerMixin):\n",
        "    def __init__(self, \n",
        "                 removestopwords=False, # suppression des stopwords\n",
        "                 lowercase=False,# passage en minuscule\n",
        "                 removedigit=False, # supprimer les nombres  \n",
        "                 getstemmer=False,# racinisation des termes \n",
        "                 getlemmatisation=False # lemmatisation des termes  \n",
        "                ):\n",
        "        \n",
        "        self.lowercase=lowercase\n",
        "        self.getstemmer=getstemmer\n",
        "        self.removestopwords=removestopwords\n",
        "        self.getlemmatisation=getlemmatisation\n",
        "        self.removedigit=removedigit\n",
        "\n",
        "    def transform(self, X, **transform_params):\n",
        "        # Nettoyage du texte\n",
        "        X=X.copy() # pour conserver le fichier d'origine\n",
        "        return [MyCleanText(text,lowercase=self.lowercase,\n",
        "                            getstemmer=self.getstemmer,\n",
        "                            removestopwords=self.removestopwords,\n",
        "                            getlemmatisation=self.getlemmatisation,\n",
        "                            removedigit=self.removedigit) for text in X]\n",
        "\n",
        "    def fit(self, X, y=None, **fit_params):\n",
        "        return self\n",
        "    \n",
        "    def fit_transform(self, X, y=None, **fit_params):\n",
        "        return self.fit(X).transform(X)\n",
        "\n",
        "    def get_params(self, deep=True):\n",
        "        return {\n",
        "            'lowercase':self.lowercase,\n",
        "            'getstemmer':self.getstemmer,\n",
        "            'removestopwords':self.removestopwords,\n",
        "            'getlemmatisation':self.getlemmatisation,\n",
        "            'removedigit':self.removedigit\n",
        "        }    \n",
        "    \n",
        "    def set_params (self, **parameters):\n",
        "        for parameter, value in parameters.items():\n",
        "            setattr(self,parameter,value)\n",
        "        return self    \n"
      ],
      "execution_count": 9,
      "outputs": [
        {
          "output_type": "stream",
          "text": [
            "[nltk_data] Downloading package wordnet to /root/nltk_data...\n",
            "[nltk_data]   Package wordnet is already up-to-date!\n",
            "[nltk_data] Downloading package stopwords to /root/nltk_data...\n",
            "[nltk_data]   Package stopwords is already up-to-date!\n",
            "[nltk_data] Downloading package punkt to /root/nltk_data...\n",
            "[nltk_data]   Package punkt is already up-to-date!\n"
          ],
          "name": "stdout"
        }
      ]
    },
    {
      "cell_type": "markdown",
      "metadata": {
        "id": "hJlLI5bm1p90"
      },
      "source": [
        "# Création du classifier\n"
      ]
    },
    {
      "cell_type": "markdown",
      "metadata": {
        "id": "TinmR9pj3OrP"
      },
      "source": [
        "**TEST MEILLEUR CLASSIFIER**"
      ]
    },
    {
      "cell_type": "code",
      "metadata": {
        "id": "XFVH423N23CJ"
      },
      "source": [
        "from sklearn.linear_model import LogisticRegression\n",
        "from sklearn.tree import DecisionTreeClassifier\n",
        "from sklearn.neighbors import KNeighborsClassifier\n",
        "from sklearn.svm import SVC\n",
        "from sklearn.naive_bayes import MultinomialNB\n",
        "from sklearn.ensemble import RandomForestClassifier\n",
        "\n",
        "# creation du tableau des différents classifieur \n",
        "\n",
        "\n",
        "models = []\n",
        "models.append(('LR', LogisticRegression(solver='lbfgs')))\n",
        "models.append(('RF', RandomForestClassifier()))\n",
        "models.append(('SVM', SVC()))"
      ],
      "execution_count": null,
      "outputs": []
    },
    {
      "cell_type": "code",
      "metadata": {
        "id": "Po2qU446272H"
      },
      "source": [
        "from sklearn.metrics import confusion_matrix\n",
        "from sklearn.metrics import classification_report\n",
        "from sklearn.model_selection import KFold\n",
        "from sklearn.model_selection import cross_val_score\n",
        "\n",
        "\n",
        "score = 'accuracy'\n",
        "seed = 7        \n",
        "allresults = []\n",
        "results = []\n",
        "names = []\n",
        "\n",
        "# Nous appliquons les pré-traitements sur X\n",
        "\n",
        "text_normalizer=TextNormalizer()  \n",
        "# appliquer fit.transform pour réaliser les pré-traitements sur X\n",
        "X_cleaned=text_normalizer.fit_transform(X)\n",
        "\n",
        "# pour l'enchainer avec un tf-idf et obtenir une matrice\n",
        "tfidf=TfidfVectorizer()\n",
        "features=tfidf.fit_transform(X_cleaned).toarray()\n",
        "\n",
        "# attention ici il faut passer features dans cross_val_score plutôt que X\n",
        "    \n",
        "for name,model in models:\n",
        "    # cross validation en 10 fois\n",
        "    kfold = KFold(n_splits=10, random_state=seed)\n",
        "    \n",
        "    print (\"Evaluation de \",name)\n",
        "    start_time = time.time()\n",
        "    # application de la classification\n",
        "    cv_results = cross_val_score(model, features, y, cv=kfold, scoring=score)\n",
        "    \n",
        "    # pour afficher les paramètres du modèle en cours et la taille du vecteur intermédiaire\n",
        "    # enlever le commentaire des deux lignes suivantes \n",
        "    #print (\"paramètre du modèle \",model.get_params(),'\\n')\n",
        "    #print (\"taille du vecteur : \",(model.named_steps['tfidf_vectorizer'].fit_transform(X)).shape,'\\n')\n",
        "\n",
        "    thetime=time.time() - start_time\n",
        "    result=Result(name,cv_results.mean(),cv_results.std(),thetime)\n",
        "    allresults.append(result)\n",
        "    # pour affichage\n",
        "    results.append(cv_results)\n",
        "    names.append(name)\n",
        "    print(\"%s : %0.3f (%0.3f) in %0.3f s\" % (name, cv_results.mean(), cv_results.std(),thetime))         \n",
        "    \n",
        "allresults=sorted(allresults, key=lambda result: result.scoremean, reverse=True) \n",
        "\n",
        "# affichage des résultats\n",
        "print ('\\nLe meilleur resultat : ')\n",
        "print ('Classifier : ',allresults[0].name, \n",
        "       ' %s : %0.3f' %(score,allresults[0].scoremean), \n",
        "       ' (%0.3f)'%allresults[0].stdresult,  \n",
        "       ' en %0.3f '%allresults[0].timespent,' s\\n')\n",
        "\n",
        "print ('Tous les résultats : \\n')\n",
        "for result in allresults:\n",
        "    print ('Classifier : ',result.name, \n",
        "       ' %s : %0.3f' %(score,result.scoremean), \n",
        "       ' (%0.3f)'%result.stdresult,  \n",
        "       ' en %0.3f '%result.timespent,' s')"
      ],
      "execution_count": null,
      "outputs": []
    },
    {
      "cell_type": "markdown",
      "metadata": {
        "id": "hQa-3ndN3K_H"
      },
      "source": [
        "**SAUVEGARDE**"
      ]
    },
    {
      "cell_type": "code",
      "metadata": {
        "id": "mMgHjNon3DTB"
      },
      "source": [
        "# selection des données\n",
        "X=df_train.sentence\n",
        "y=df_train.sentiment\n",
        "\n",
        "#Cross validation\n",
        "# Création d'un jeu d'apprentissage et de test\n",
        "trainsize=0.7 # 70% pour le jeu d'apprentissage, il reste 30% du jeu de données pour le test\n",
        "\n",
        "testsize= 0.3\n",
        "seed=30\n",
        "X_train,X_test,y_train,y_test=train_test_split(X, \n",
        "                                               y, \n",
        "                                               train_size=trainsize, \n",
        "                                               random_state=seed,\n",
        "                                               test_size=testsize)\n",
        "\n",
        "pipeline=Pipeline([(\"cleaner\", TextNormalizer()),\n",
        "                   (\"tfidf\", TfidfVectorizer(lowercase='True')),\n",
        "                   ('svm', SVC(C=1, gamma=1,kernel='rbf', verbose=True))])\n",
        "\n",
        "pipeline.fit(X_train,y_train)\n",
        "\n",
        "y_pred = pipeline.predict(X_test)\n",
        "MyshowAllScores(y_test,y_pred)\n",
        "\n",
        "filename='SentimentModel.pkl'\n",
        "print(\"Sauvegarde du modèle dans \", filename)\n",
        "pickle.dump(pipeline, open(filename, \"wb\"))"
      ],
      "execution_count": null,
      "outputs": []
    },
    {
      "cell_type": "markdown",
      "metadata": {
        "id": "TC8feaSy516h"
      },
      "source": [
        "# Classer les données\n"
      ]
    },
    {
      "cell_type": "markdown",
      "metadata": {
        "id": "xTSDwvVj599Q"
      },
      "source": [
        "**CHARGEMENT CLASSIFIER**"
      ]
    },
    {
      "cell_type": "code",
      "metadata": {
        "id": "uSpDdF0Q57qJ"
      },
      "source": [
        "filename = 'SentimentModel.pkl'\n",
        "\n",
        "# le chargement se fait via la fonction load\n",
        "clf_loaded = pickle.load(open(filename, 'rb'))\n",
        "\n",
        "# affichage du modèle sauvegardé\n",
        "print (clf_loaded)"
      ],
      "execution_count": null,
      "outputs": []
    },
    {
      "cell_type": "markdown",
      "metadata": {
        "id": "Tfisa3AN7L0D"
      },
      "source": [
        "**PREDICTION**"
      ]
    },
    {
      "cell_type": "code",
      "metadata": {
        "id": "kLtpe8iN6saT",
        "colab": {
          "base_uri": "https://localhost:8080/",
          "height": 616
        },
        "outputId": "84565510-6429-4549-b776-b7b18c32bfc3"
      },
      "source": [
        "# selection d'un echantillon\n",
        "nbsamples=800\n",
        "df_sample=df_test.sample(n = nbsamples) \n",
        "\n",
        "print (\"\\nPrédiction sur \",nbsamples,\" données tirées au hasard \\n\")       \n",
        "y_test=df_sample.sentiment \n",
        "X=df_sample.review\n",
        "y_pred = clf_loaded.predict(X)\n",
        "\n",
        "# autres mesures et matrice de confusion\n",
        "MyshowAllScores(y_test,y_pred)"
      ],
      "execution_count": null,
      "outputs": [
        {
          "output_type": "stream",
          "text": [
            "\n",
            "Prédiction sur  800  données tirées au hasard \n",
            "\n",
            "(800,)\n",
            "Accuracy : 0.739\n",
            "Classification Report\n",
            "              precision    recall  f1-score   support\n",
            "\n",
            "           0    0.77054   0.68000   0.72244       400\n",
            "           1    0.71365   0.79750   0.75325       400\n",
            "\n",
            "    accuracy                        0.73875       800\n",
            "   macro avg    0.74209   0.73875   0.73785       800\n",
            "weighted avg    0.74209   0.73875   0.73785       800\n",
            "\n"
          ],
          "name": "stdout"
        },
        {
          "output_type": "display_data",
          "data": {
            "image/png": "[encoded data removed]",
            "text/plain": [
              "<Figure size 576x360 with 2 Axes>"
            ]
          },
          "metadata": {
            "tags": []
          }
        }
      ]
    },
    {
      "cell_type": "markdown",
      "metadata": {
        "id": "Kz17F18xzW-p"
      },
      "source": [
        "# Generer des Avis\n"
      ]
    },
    {
      "cell_type": "markdown",
      "metadata": {
        "id": "2r-fVy1AzwAK"
      },
      "source": [
        "**LSTM + Embedding**"
      ]
    },
    {
      "cell_type": "markdown",
      "metadata": {
        "id": "cUp4Lr65z3nB"
      },
      "source": [
        "**Setup**"
      ]
    },
    {
      "cell_type": "code",
      "metadata": {
        "id": "mtT41hbnzuQy"
      },
      "source": [
        "# librairies gensim\n",
        "from gensim.models import Word2Vec\n",
        "from gensim.models import KeyedVectors # to load gzip bin files with KeyedVectors.load_word2vec_format\n",
        "from gensim import models\n",
        "from gensim.models.word2vec import Word2Vec\n",
        "import numpy as np\n",
        "\n",
        "from gensim import models\n",
        "model_stanford = models.KeyedVectors.load_word2vec_format(\"glove.6B.100d.w2vformat.txt\", binary=False)\n",
        "\n",
        "#https://machinelearningmastery.com/develop-word-based-neural-language-models-python-keras/\n",
        "from numpy import array\n",
        "from keras.preprocessing.text import Tokenizer\n",
        "from keras.utils import to_categorical\n",
        "from keras.preprocessing.sequence import pad_sequences\n",
        "from keras.models import Sequential\n",
        "from keras.layers import Dense\n",
        "from keras.layers import LSTM\n",
        "from keras.layers import Embedding\n",
        "\n",
        "\n",
        "# generate a sequence from a language model\n",
        "def generate_seq(model, tokenizer, max_length, seed_text, n_words):\n",
        "\tin_text = seed_text\n",
        "\t# generate a fixed number of words\n",
        "\tfor _ in range(n_words):\n",
        "\t\t# encode the text as integer\n",
        "\t\tencoded = tokenizer.texts_to_sequences([in_text])[0]\n",
        "\t\t# pre-pad sequences to a fixed length\n",
        "\t\tencoded = pad_sequences([encoded], maxlen=max_length, padding='pre')\n",
        "\t\t# predict probabilities for each word\n",
        "\t\tyhat = model.predict_classes(encoded, verbose=0)\n",
        "\t\t# map predicted word index to word\n",
        "\t\tout_word = ''\n",
        "\t\tfor word, index in tokenizer.word_index.items():\n",
        "\t\t\tif index == yhat:\n",
        "\t\t\t\tout_word = word\n",
        "\t\t\t\tbreak\n",
        "\t\t# append to input\n",
        "\t\tin_text += ' ' + out_word\n",
        "\treturn in_text\n",
        "\n",
        "def get_embedding_matrix(embeddings,words,vocabulary_size,dimension):\n",
        "  # Preparation de la matrice des embeddings embedding matrix\n",
        "  embedding_matrix = np.zeros((vocabulary_size, dimension)) #(22 x 100)\n",
        "  for word, i in words.word_index.items():\n",
        "    try: # lever l'exception si un mot n'est pas trouvé dans les embeddings\n",
        "        embedding_vector = embeddings.wv[word] \n",
        "        embedding_matrix[i] = embedding_vector\n",
        "    except KeyError: # mot non trouvé dans les embeddings\n",
        "        # print(word)\n",
        "        pass\n",
        "  return embedding_matrix"
      ],
      "execution_count": 10,
      "outputs": []
    },
    {
      "cell_type": "markdown",
      "metadata": {
        "id": "rjSDFWeV0F_Z"
      },
      "source": [
        "**Tri des avis positifs**"
      ]
    },
    {
      "cell_type": "code",
      "metadata": {
        "id": "PLWVhoKx0NLZ"
      },
      "source": [
        "# source text\n",
        "df = pd.read_csv(\"ReviewsLabelled.csv\", names=['sentence','sentiment','source'], header=0,sep='\\t', encoding='utf8')\n",
        "\n",
        "object_dataframe = df[df['sentiment'] == 1].sentence\n",
        "data = \"\"\n",
        "for r in object_dataframe:\n",
        "  data += r # + '\\n'"
      ],
      "execution_count": 14,
      "outputs": []
    },
    {
      "cell_type": "markdown",
      "metadata": {
        "id": "OkRa9kn30Pup"
      },
      "source": [
        "**Entrainement du model**"
      ]
    },
    {
      "cell_type": "code",
      "metadata": {
        "id": "7js7T0GBzbYK",
        "colab": {
          "base_uri": "https://localhost:8080/"
        },
        "outputId": "b3dfcd24-f9e5-43e1-e96e-1665d7efb5ef"
      },
      "source": [
        "tokenizer = Tokenizer()\n",
        "tokenizer.fit_on_texts([data])\n",
        "encoded = tokenizer.texts_to_sequences([data])[0] #codage des mots\n",
        "\n",
        "vocab_size = len(tokenizer.word_index) + 1 #pourquoi +1 ???\n",
        "print('Vocabulary Size: %d' % vocab_size)\n",
        "\n",
        "# encode 2 words -> 1 word\n",
        "sequences = list()\n",
        "for i in range(2, len(encoded)):\n",
        "\tsequence = encoded[i-2:i+1]\n",
        "\tsequences.append(sequence)\n",
        "\n",
        "# pad sequences\n",
        "max_length = max([len(seq) for seq in sequences]) #taille de la sequence la plus longue ? 3\n",
        "sequences = pad_sequences(sequences, maxlen=max_length, padding='pre') #padding\n",
        "\n",
        "# split into input and output elements\n",
        "sequences = array(sequences) #utile??\n",
        "X, y = sequences[:,:-1],sequences[:,-1]\n",
        "y = to_categorical(y, num_classes=vocab_size)\n",
        "\n",
        "DIMENSION=100 #max_length#20\n",
        "embedding_matrix=get_embedding_matrix(model_stanford,tokenizer,vocab_size,DIMENSION)\n",
        "\n",
        "#---------- model ---------------\n",
        "model = Sequential()\n",
        "model.add(Embedding(vocab_size, 100, weights=[embedding_matrix], input_length=max_length-1))#, trainable=False)) \n",
        "model.add(LSTM(50))\n",
        "model.add(Dense(vocab_size, activation='softmax'))\n",
        "model.compile(loss='categorical_crossentropy', optimizer='adam', metrics=['accuracy'])\n",
        "\n",
        "# print(model.summary())\n",
        "# model.fit(X, y, epochs=100, verbose=2)\n",
        "# model.save('model_opinions_embeddings.bin')"
      ],
      "execution_count": 15,
      "outputs": [
        {
          "output_type": "stream",
          "text": [
            "Vocabulary Size: 3426\n"
          ],
          "name": "stdout"
        },
        {
          "output_type": "stream",
          "text": [
            "/usr/local/lib/python3.7/dist-packages/ipykernel_launcher.py:48: DeprecationWarning: Call to deprecated `wv` (Attribute will be removed in 4.0.0, use self instead).\n"
          ],
          "name": "stderr"
        }
      ]
    },
    {
      "cell_type": "markdown",
      "metadata": {
        "id": "bMCCoMxE0e5R"
      },
      "source": [
        "**Generation**"
      ]
    },
    {
      "cell_type": "code",
      "metadata": {
        "id": "vk8AO_GA0hWZ",
        "colab": {
          "base_uri": "https://localhost:8080/"
        },
        "outputId": "99f39086-9818-4338-8e2e-86013477180a"
      },
      "source": [
        "from tensorflow import keras\n",
        "\n",
        "new_model = keras.models.load_model('model_opinions_embeddings.bin')\n",
        "\n",
        "print(generate_seq(new_model, tokenizer, max_length-1, 'this place', 10))"
      ],
      "execution_count": 16,
      "outputs": [
        {
          "output_type": "stream",
          "text": [
            "/usr/local/lib/python3.7/dist-packages/tensorflow/python/keras/engine/sequential.py:450: UserWarning: `model.predict_classes()` is deprecated and will be removed after 2021-01-01. Please use instead:* `np.argmax(model.predict(x), axis=-1)`,   if your model does multi-class classification   (e.g. if it uses a `softmax` last-layer activation).* `(model.predict(x) > 0.5).astype(\"int32\")`,   if your model does binary classification   (e.g. if it uses a `sigmoid` last-layer activation).\n",
            "  warnings.warn('`model.predict_classes()` is deprecated and '\n"
          ],
          "name": "stderr"
        },
        {
          "output_type": "stream",
          "text": [
            "this place is a great deal the ambience is wonderful and imaginative\n"
          ],
          "name": "stdout"
        }
      ]
    },
    {
      "cell_type": "markdown",
      "metadata": {
        "id": "t4wD4JZ2039m"
      },
      "source": [
        "# Experimentations\n"
      ]
    },
    {
      "cell_type": "markdown",
      "metadata": {
        "id": "91C9BV1X1Gxw"
      },
      "source": [
        "Principe :\n",
        "  \n",
        "  Partie: I\n",
        "\n",
        "  - Entrainer un classifier --> relever l'accuracy\n",
        "  - Génerer des avis positifs de taille variables (10, 20 mots)\n",
        "  - Classer les données générés\n",
        "  \n",
        "  Partie II:\n",
        "\n",
        "  -Ré-entrainer le classifier en changeant une partie des données par les données générés --> relever l'accuracy\n",
        "  -Générer de nouveaux avis positifs\n",
        "  - Les classer"
      ]
    },
    {
      "cell_type": "markdown",
      "metadata": {
        "id": "kW81bNFEzENQ"
      },
      "source": [
        "**POSITIVE**"
      ]
    },
    {
      "cell_type": "code",
      "metadata": {
        "colab": {
          "base_uri": "https://localhost:8080/"
        },
        "id": "ZFiVDuti2Hs4",
        "outputId": "eb88b685-5dfd-4da1-8663-4f8053f1d96e"
      },
      "source": [
        "#Premier générateur\n",
        "object_dataframe = df_train[df_train['sentiment'] == 1].sentence\n",
        "data = \"\"\n",
        "for r in object_dataframe:\n",
        "  data += r # + '\\n'\n",
        "\n",
        "tokenizer = Tokenizer()\n",
        "tokenizer.fit_on_texts([data])\n",
        "encoded = tokenizer.texts_to_sequences([data])[0] #codage des mots\n",
        "\n",
        "vocab_size = len(tokenizer.word_index) + 1\n",
        "\n",
        "# encode 2 words -> 1 word\n",
        "sequences = list()\n",
        "for i in range(2, len(encoded)):\n",
        "  sequence = encoded[i-2:i+1]\n",
        "  sequences.append(sequence)\n",
        "\n",
        "# pad sequences\n",
        "max_length = max([len(seq) for seq in sequences]) #taille de la sequence la plus longue ? 3\n",
        "sequences = pad_sequences(sequences, maxlen=max_length, padding='pre') #padding\n",
        "\n",
        "# split into input and output elements\n",
        "sequences = array(sequences) #utile??\n",
        "X, y = sequences[:,:-1],sequences[:,-1]\n",
        "y = to_categorical(y, num_classes=vocab_size)\n",
        "\n",
        "# generator = train_generator(data, 1)\n",
        "generator = keras.models.load_model('model_opinions_embeddings.bin')\n",
        "\n",
        "#générer des mots\n",
        "nb = 100\n",
        "\n",
        "generated_text = []\n",
        "for i in range(nb):\n",
        "  start = np.random.randint(0, len(X)-1) \n",
        "  pattern = X[start] \n",
        "  txt = \"\"\n",
        "  for w in pattern:\n",
        "    for word, index in tokenizer.word_index.items():\n",
        "      if index == w:\n",
        "        txt += word + ' '\n",
        "  generated_text.append(generate_seq(generator, tokenizer, max_length-1, txt, 10 if i<nb/2 else 20))\n",
        "\n",
        "print(np.matrix(generated_text))"
      ],
      "execution_count": 63,
      "outputs": [
        {
          "output_type": "stream",
          "text": [
            "/usr/local/lib/python3.7/dist-packages/tensorflow/python/keras/engine/sequential.py:450: UserWarning: `model.predict_classes()` is deprecated and will be removed after 2021-01-01. Please use instead:* `np.argmax(model.predict(x), axis=-1)`,   if your model does multi-class classification   (e.g. if it uses a `softmax` last-layer activation).* `(model.predict(x) > 0.5).astype(\"int32\")`,   if your model does binary classification   (e.g. if it uses a `sigmoid` last-layer activation).\n",
            "  warnings.warn('`model.predict_classes()` is deprecated and '\n"
          ],
          "name": "stderr"
        },
        {
          "output_type": "stream",
          "text": [
            "[[\"and all  the characters are interesting and you won't be disappointed the\"\n",
            "  \"a riot  to see that renowned silent screenwriter frances marion hasn't missed\"\n",
            "  'to do  this to be the hardest decision honestly all of the'\n",
            "  'our server  was very good and i think the quality is excellent'\n",
            "  'one bite  i was not as a child on tv back in'\n",
            "  'of the  film is an excellent job of tying up the subpar'\n",
            "  \"simple drink  menu the salad had just as spacek owned coal miner's\"\n",
            "  'it is  a great deal the ambience is wonderful and imaginative look'\n",
            "  'of south  africa understand its past and the service was good and'\n",
            "  'it is  a great deal the ambience is wonderful and imaginative look'\n",
            "  'really unfolds  gradually and leaves room for this place is a great'\n",
            "  'a super  ending that depicts a great deal the ambience is wonderful'\n",
            "  \"entrance and  mini dance scene i'm a big winner the food was\"\n",
            "  'they do  a great deal the ambience is wonderful and imaginative look'\n",
            "  'first say  this is a great deal the ambience is wonderful and'\n",
            "  'of the  film is an excellent job of tying up the subpar'\n",
            "  \"pizza and  i'm giving it 5 stars because of the film is\"\n",
            "  'and escapism  a variation on her tv solidifying his happiness over the'\n",
            "  'everything was  good and i think the quality is excellent it fits'\n",
            "  'even told  friends they had a great deal the ambience is wonderful'\n",
            "  \"myself a  fair critic so i'll give this one a resounding 9\"\n",
            "  'the treo  reboots overall i am very impressed with the phone is'\n",
            "  'to fans  of the film is an excellent job of tying up'\n",
            "  'nationalities although  the circumstances were slightly different this movie is a great'\n",
            "  'certainly appreciate  one galley scene in the movie is a great deal'\n",
            "  'comes to  white racism plus with the phone is sturdy enough i'\n",
            "  'great place  to go the tiramisu and cannoli are both to die'\n",
            "  'tea come  hungry leave happy and stuffed i can say that i'\n",
            "  'huge spoiler  i loved it i love this place is a great'\n",
            "  'a regular  stop on my pc this is a great deal the'\n",
            "  \"of m's  dishes taste how they are so easy it barely took\"\n",
            "  'another marrow  to go the tiramisu and cannoli are both to die'\n",
            "  'own 2  of these cases and would order it again two sundays'\n",
            "  'on us  regularly excellent service the igo chargers and tips are really'\n",
            "  'this place  is a great deal the ambience is wonderful and imaginative'\n",
            "  'editing directing  or any other speaker of this is a great deal'\n",
            "  'routine fact  based tv drama gets a signal when other verizon phones'\n",
            "  'is definitely  a must have i have to tell a worthy moral'\n",
            "  'mostly lesser  known cast and what i wanted to see that renowned'\n",
            "  'little mom  and pop shops in the movie is a great deal'\n",
            "  'saw it  a 10 i do think tom hanks is a great'\n",
            "  'its austere  backdrop you will be back again if needed not only'\n",
            "  'out for  the price is reasonable and the service was good and'\n",
            "  'the casting  of jimmy buffet as the science teacher and those baby'\n",
            "  'i loved  it i love this place is a great deal the'\n",
            "  'works like  a charm works as advertised comfortable nice range good battery'\n",
            "  'cake ohhh  this stuff is so good works fine but then the'\n",
            "  'people who  found this place is a great deal the ambience is'\n",
            "  'is this  is a great deal the ambience is wonderful and imaginative'\n",
            "  'and our  steak loving son who has been working great works great'\n",
            "  \"subway in  fact it's hard not to be the hardest decision honestly all of the film is an excellent job of tying\"\n",
            "  'nothing short  of magnificent photography cinematography in the movie is a great deal the ambience is wonderful and imaginative look at childhood'\n",
            "  'faux masterpieces  the structure of this is a great deal the ambience is wonderful and imaginative look at childhood at a time'\n",
            "  \"has transformed  my organizational capability and made another worthwhile experience it she is part of a childrens' book writer who maybe has\"\n",
            "  'house service  was good and i think the quality is excellent it fits comfortably came with the phone is sturdy enough i'\n",
            "  \"real estate  salesman who uses his clients' houses for his trysts with the phone is sturdy enough i don't know exactly what\"\n",
            "  'it that  said our mouths and bellies were still quite pleased 2 thumbs up to 4 stars just because she was the'\n",
            "  'lovely duo  of violinists playing songs we requested i personally love the decor is nice and clear with great sound effects and'\n",
            "  'at a  time if not state of the film is an excellent job of tying up the subpar food the bathrooms are'\n",
            "  'i will  continue to do this to be the hardest decision honestly all of the film is an excellent job of tying'\n",
            "  'however some  pretty good quality film i realized that not only had it for a long time after the vision of the'\n",
            "  'functionality is  decent as far as b list horror suspense films go definitely worth checking out the wife loves roasted garlic and'\n",
            "  \"very high  quality and low price very pleased with the phone is sturdy enough i don't know exactly what it is a\"\n",
            "  'in 1949  as hollywood generally had its collective heads in the movie is a great deal the ambience is wonderful and imaginative'\n",
            "  'headsets are  easy to use and everyone loves them this place is a great deal the ambience is wonderful and imaginative look'\n",
            "  'control of  the film is an excellent job of tying up the subpar food the bathrooms are clean and the service was'\n",
            "  \"amazon and  i'm giving it 5 stars because of the film is an excellent job of tying up the subpar food the\"\n",
            "  'bluetooth for  a long time after the vision of the film is an excellent job of tying up the subpar food the'\n",
            "  'pleasant and  enthusiastic a real treat as always compliments to the show easily none other cartoon made me feel all warm and'\n",
            "  'a full  qwerty and the service was good and i think the quality is excellent it fits comfortably came with the phone'\n",
            "  'some of  the film is an excellent job of tying up the subpar food the bathrooms are clean and the service was'\n",
            "  \"level 5  spicy was perfect where spice didn't over whelm the soup we were staying at the same time the food was\"\n",
            "  'themselves into  is absolutely hilarious to watch this is a great deal the ambience is wonderful and imaginative look at childhood at'\n",
            "  'of this  is a great deal the ambience is wonderful and imaginative look at childhood at a time if not state of'\n",
            "  'restaurant if  you want a sandwich just go to the show easily none other cartoon made me feel all warm and fuzzy'\n",
            "  'hybrid palmtop  camera cellphone and excels in those roles i would recommend this movie is a great deal the ambience is wonderful'\n",
            "  'appreciate the  thought provoking film that i enjoyed every mouthful an enjoyable relaxed venue for couples small family restaurant and it was'\n",
            "  'for the  price is reasonable and the service was good and i think the quality is excellent it fits comfortably came with'\n",
            "  \"wanted to  see that renowned silent screenwriter frances marion hasn't missed a step going from silent to sound you'll love how thin\"\n",
            "  'as an  intense experience the atmosphere was exquisite good service check in the movie is a great deal the ambience is wonderful'\n",
            "  \"desserts were  yummy the seasonal fruit was fresh and delicious we'd definitely go back to again the block was amazing omelets are\"\n",
            "  'to the  show easily none other cartoon made me feel all warm and fuzzy inside i have to tell a worthy moral'\n",
            "  \"obviously meagre  budget i'm glad i am very impressed with the phone is sturdy enough i don't know exactly what it is\"\n",
            "  'movie i  saw this film is an excellent job of tying up the subpar food the bathrooms are clean and the service'\n",
            "  'have something  special too funny i laughed kids will open up some amazing dialog about how far race relations have come back'\n",
            "  'it plays  louder than any other speaker of this is a great deal the ambience is wonderful and imaginative look at childhood'\n",
            "  'were powerful  explorations of the film is an excellent job of tying up the subpar food the bathrooms are clean and the'\n",
            "  'bunch of  interesting yet delicious meats to choose from you need to pack it to be the hardest decision honestly all of'\n",
            "  'is a  great deal the ambience is wonderful and imaginative look at childhood at a time if not state of the film'\n",
            "  'a great  deal the ambience is wonderful and imaginative look at childhood at a time if not state of the film is'\n",
            "  'lucy see  it with a great deal the ambience is wonderful and imaginative look at childhood at a time if not state'\n",
            "  \"of cream  cheese real lox with capers even great subway in fact it's hard not to be the hardest decision honestly all\"\n",
            "  'it was  a good job of tying up the subpar food the bathrooms are clean and the service was good and i'\n",
            "  'handsfree part  works fine but then the car and the service was good and i think the quality is excellent it fits'\n",
            "  'trimmed and  also perfectly cooked we had a great deal the ambience is wonderful and imaginative look at childhood at a time'\n",
            "  'was the  best and worst places said it was a good job of tying up the subpar food the bathrooms are clean'\n",
            "  \"the chips  and sals a here you can't beat that stopped by this place is a great deal the ambience is wonderful\"\n",
            "  'films and  art movies will like this place is a great deal the ambience is wonderful and imaginative look at childhood at'\n",
            "  'audience or  take the easy way out of 10 for the price is reasonable and the service was good and i think'\n",
            "  'very convenient  and simple to use and everyone loves them this place is a great deal the ambience is wonderful and imaginative']]\n"
          ],
          "name": "stdout"
        }
      ]
    },
    {
      "cell_type": "code",
      "metadata": {
        "colab": {
          "base_uri": "https://localhost:8080/",
          "height": 1000
        },
        "id": "9xnZ9RHz0N8u",
        "outputId": "7f4a6946-b9c4-4904-f7e2-70e22127fa88"
      },
      "source": [
        "classifier = pickle.load(open('NewSentimentModel.pkl', 'rb'))\n",
        "y_pred = classifier.predict(generated_text)\n",
        "print(y_pred)\n",
        "MyshowAllScores(np.ones(nb),y_pred)\n",
        "\n",
        "classifier = pickle.load(open('SentimentModel.pkl', 'rb'))\n",
        "y_pred = classifier.predict(generated_text)\n",
        "print(y_pred)\n",
        "MyshowAllScores(np.ones(nb),y_pred)\n",
        "\n",
        "# scores = []\n",
        "# for i in range(5):\n",
        "#   idx = np.random.randint(0, 100, 20);\n",
        "#   sample = np.array(generated_text)[idx]\n",
        "#   y_pred = classifier.predict(sample)\n",
        "#   print(y_pred)\n",
        "#   MyshowAllScores(np.ones(20),y_pred)\n",
        "#   scores.append(accuracy_score(np.ones(20), y_pred))\n",
        "\n",
        "# print(scores)\n",
        "# print(np.average(scores))\n",
        "# print(np.nanstd(scores))"
      ],
      "execution_count": 80,
      "outputs": [
        {
          "output_type": "stream",
          "text": [
            "[0 1 0 1 0 1 1 1 1 1 1 1 1 1 1 1 0 1 1 1 1 1 1 1 1 0 1 0 1 1 1 0 0 1 1 1 0\n",
            " 1 1 1 1 0 1 1 1 1 1 1 1 1 1 1 1 0 1 0 1 1 1 1 1 1 0 1 1 1 1 1 1 1 1 1 1 1\n",
            " 1 1 1 1 1 1 1 1 1 1 1 1 1 0 1 1 1 0 1 1 1 0 1 1 1 1]\n",
            "Accuracy : 0.840\n",
            "Classification Report\n",
            "              precision    recall  f1-score   support\n",
            "\n",
            "         0.0    0.00000   0.00000   0.00000         0\n",
            "         1.0    1.00000   0.84000   0.91304       100\n",
            "\n",
            "    accuracy                        0.84000       100\n",
            "   macro avg    0.50000   0.42000   0.45652       100\n",
            "weighted avg    1.00000   0.84000   0.91304       100\n",
            "\n"
          ],
          "name": "stdout"
        },
        {
          "output_type": "stream",
          "text": [
            "/usr/local/lib/python3.7/dist-packages/sklearn/metrics/_classification.py:1272: UndefinedMetricWarning: Recall and F-score are ill-defined and being set to 0.0 in labels with no true samples. Use `zero_division` parameter to control this behavior.\n",
            "  _warn_prf(average, modifier, msg_start, len(result))\n"
          ],
          "name": "stderr"
        },
        {
          "output_type": "display_data",
          "data": {
            "image/png": "[encoded data removed]",
            "text/plain": [
              "<Figure size 576x360 with 2 Axes>"
            ]
          },
          "metadata": {
            "tags": []
          }
        },
        {
          "output_type": "stream",
          "text": [
            "[1 0 0 1 0 1 1 1 1 1 1 1 1 1 1 1 1 1 1 1 1 1 1 1 1 1 1 1 1 1 0 1 1 1 1 1 1\n",
            " 1 1 1 1 0 1 1 1 1 1 1 1 1 1 1 1 1 1 1 1 1 1 1 0 1 1 1 1 1 1 1 1 1 1 0 1 1\n",
            " 0 1 1 1 1 1 1 1 1 1 1 1 1 1 1 1 1 1 1 1 1 1 1 1 1 1]\n",
            "Accuracy : 0.920\n",
            "Classification Report\n",
            "              precision    recall  f1-score   support\n",
            "\n",
            "         0.0    0.00000   0.00000   0.00000         0\n",
            "         1.0    1.00000   0.92000   0.95833       100\n",
            "\n",
            "    accuracy                        0.92000       100\n",
            "   macro avg    0.50000   0.46000   0.47917       100\n",
            "weighted avg    1.00000   0.92000   0.95833       100\n",
            "\n"
          ],
          "name": "stdout"
        },
        {
          "output_type": "stream",
          "text": [
            "/usr/local/lib/python3.7/dist-packages/sklearn/metrics/_classification.py:1272: UndefinedMetricWarning: Recall and F-score are ill-defined and being set to 0.0 in labels with no true samples. Use `zero_division` parameter to control this behavior.\n",
            "  _warn_prf(average, modifier, msg_start, len(result))\n"
          ],
          "name": "stderr"
        },
        {
          "output_type": "display_data",
          "data": {
            "image/png": "[encoded data removed]",
            "text/plain": [
              "<Figure size 576x360 with 2 Axes>"
            ]
          },
          "metadata": {
            "tags": []
          }
        }
      ]
    },
    {
      "cell_type": "markdown",
      "metadata": {
        "id": "poC4MEw-zJEW"
      },
      "source": [
        "**NEGATIVE**"
      ]
    },
    {
      "cell_type": "code",
      "metadata": {
        "colab": {
          "base_uri": "https://localhost:8080/"
        },
        "id": "mBcdLO4UzMFi",
        "outputId": "3d2b02fe-d0d0-4002-891b-9096461bdb7d"
      },
      "source": [
        "#Premier générateur\n",
        "object_dataframe = df_train[df_train['sentiment'] == 0].sentence\n",
        "data = \"\"\n",
        "for r in object_dataframe:\n",
        "  data += r # + '\\n'\n",
        "\n",
        "tokenizer = Tokenizer()\n",
        "tokenizer.fit_on_texts([data])\n",
        "encoded = tokenizer.texts_to_sequences([data])[0] #codage des mots\n",
        "\n",
        "vocab_size = len(tokenizer.word_index) + 1\n",
        "\n",
        "# encode 2 words -> 1 word\n",
        "sequences = list()\n",
        "for i in range(2, len(encoded)):\n",
        "  sequence = encoded[i-2:i+1]\n",
        "  sequences.append(sequence)\n",
        "\n",
        "# pad sequences\n",
        "max_length = max([len(seq) for seq in sequences]) #taille de la sequence la plus longue ? 3\n",
        "sequences = pad_sequences(sequences, maxlen=max_length, padding='pre') #padding\n",
        "\n",
        "# split into input and output elements\n",
        "sequences = array(sequences) #utile??\n",
        "X, y = sequences[:,:-1],sequences[:,-1]\n",
        "y = to_categorical(y, num_classes=vocab_size)\n",
        "\n",
        "# generator = train_generator(data, 1)\n",
        "generator = keras.models.load_model('model_opinions_negative_embeddings.bin')\n",
        "\n",
        "#générer des mots\n",
        "nb = 100\n",
        "\n",
        "generated_negative_text = []\n",
        "for i in range(nb):\n",
        "  start = np.random.randint(0, len(X)-1) \n",
        "  pattern = X[start] \n",
        "  txt = \"\"\n",
        "  for w in pattern:\n",
        "    for word, index in tokenizer.word_index.items():\n",
        "      if index == w:\n",
        "        txt += word + ' '\n",
        "  generated_negative_text.append(generate_seq(generator, tokenizer, max_length-1, txt, 10 if i<nb/2 else 20))\n",
        "\n",
        "print(np.matrix(generated_negative_text))"
      ],
      "execution_count": 66,
      "outputs": [
        {
          "output_type": "stream",
          "text": [
            "/usr/local/lib/python3.7/dist-packages/tensorflow/python/keras/engine/sequential.py:450: UserWarning: `model.predict_classes()` is deprecated and will be removed after 2021-01-01. Please use instead:* `np.argmax(model.predict(x), axis=-1)`,   if your model does multi-class classification   (e.g. if it uses a `softmax` last-layer activation).* `(model.predict(x) > 0.5).astype(\"int32\")`,   if your model does binary classification   (e.g. if it uses a `sigmoid` last-layer activation).\n",
            "  warnings.warn('`model.predict_classes()` is deprecated and '\n"
          ],
          "name": "stderr"
        },
        {
          "output_type": "stream",
          "text": [
            "[[\"it at  all costs i know that jim o'connor was very disappointed\"\n",
            "  'only bad  script is a bit of a movie that is screened'\n",
            "  'the most  annoying and idiotic show i have ever seen he surely'\n",
            "  'trash this  is a bit of a movie that is screened in'\n",
            "  \"bad choice  the pleather case doesn't fit useless phone simply deaf it\"\n",
            "  'in more  than a subway sub which offers better and more amount'\n",
            "  'stinker smells  like a loud buzzing to override all your conversations then'\n",
            "  'oh so  stale the chicken dishes are close to room temp i'\n",
            "  'mclaglen was  even more stupid is that the ending is like experiencing'\n",
            "  \"a doubt  the worst i have ever seen he surely doesn't know\"\n",
            "  'the food  was mediocre i will not be back here worst food'\n",
            "  'all the  dialogue is composed of things that make little sense about'\n",
            "  'not even  a sequel to this place is not a good way'\n",
            "  'the ambiance  here did not work with my phone got to be'\n",
            "  'car breaks  down in front of the worst i have ever seen'\n",
            "  'who in  their right mind is gonna buy this product is clearly'\n",
            "  'and she  had a few seconds into the case is a bit'\n",
            "  'dedicated boba  tea spots but even i had to pull out the'\n",
            "  'the infra  red port irda you can skip this one i could'\n",
            "  'i caught  them on the other person to ask to break up'\n",
            "  \"use because  of the worst i have ever seen he surely doesn't\"\n",
            "  'cinematic garbage  captured on celluloid avoid at all costs i know that'\n",
            "  'audio who  in their right mind is gonna buy this product is'\n",
            "  'and the  food was mediocre i will not be back here worst'\n",
            "  'this movie  is a bit of a movie that is screened in'\n",
            "  'a picture  painted with crayons crash is a bit of a movie'\n",
            "  'use my  common sense the scallop dish is quite depressing all this'\n",
            "  'this movie  is a bit of a movie that is screened in'\n",
            "  \"didn't have  to keep you occupied through out awful i can't believe\"\n",
            "  \"you'd have  to keep you occupied through out awful i can't believe\"\n",
            "  \"i would  not recommend this item to anyone the holster it doesn't\"\n",
            "  \"didn't work  either returned 8 hours later don't waste your time let\"\n",
            "  'los angeles  is nothing special will not be back here worst food'\n",
            "  'this movie  is a bit of a movie that is screened in'\n",
            "  \"best we  won't be back here worst food service i've had this\"\n",
            "  'service the  cable looks so thin and flimsy it is not a'\n",
            "  'if it  was a bit of a movie that is screened in'\n",
            "  \"item to  anyone the holster it doesn't work here the visual effects\"\n",
            "  'a movie  that is screened in the proceedings is totally implausible and'\n",
            "  \"similar complaints  that i found this headset's microphone was very disappointed the\"\n",
            "  'people my  order arrived one of the worst i have ever seen'\n",
            "  'there was  the frustration at just there are so many other restaurants'\n",
            "  'and face  what a waste of time following a bunch of disparate'\n",
            "  'our pizzas  as many other restaurants i would not recommend this item'\n",
            "  'to jiggle  the plug did not work with my phone got to'\n",
            "  \"wasn't great  if there is no plot whatsoever again no plot whatsoever\"\n",
            "  \"speak of  the worst i have ever seen he surely doesn't know\"\n",
            "  'cheated for  wasting an eating opportunity by going to be a reasonable'\n",
            "  \"timing aside  from it's terrible lead this film is not a good\"\n",
            "  'ordered albondigas  soup which was lukewarm i left with a weird questioning'\n",
            "  \"don't think  i've ever had a few seconds into the case is a bit of a movie that is screened in the\"\n",
            "  \"of a  movie that is screened in the proceedings is totally implausible and unconvincing and if someone orders two tacos don't' you\"\n",
            "  \"very important  contacts terrible phone holder problem is the worst i have ever seen he surely doesn't know how to string together\"\n",
            "  'placed at  her door after all the dialogue is composed of things that make little sense about 30 minutes to be a'\n",
            "  \"the disappointing  dinner we went on motorola's website and don't expect anything original or even masterful i can only rinse not take\"\n",
            "  \"in it  i found this headset's microphone was very disappointed the buttons on the other person to ask to break up walked\"\n",
            "  'go here  again the unit never worked for a few seconds into the case is a bit of a movie that is'\n",
            "  'not fit  the palm tungsten e2 and it was a bit of a movie that is screened in the proceedings is totally'\n",
            "  'top off  a few seconds into the case is a bit of a movie that is screened in the proceedings is totally'\n",
            "  \"before being  disconnected design flaw unless i'm not sure how joey's was voted best hot dog in the proceedings is totally implausible\"\n",
            "  \"it as  frequentyly as some of the worst i have ever seen he surely doesn't know how to string together narrative this\"\n",
            "  \"i didn't  want to wait for mediocre food and apparently there was the frustration at just there are so many other restaurants\"\n",
            "  \"forty five  minutes in vain crostini that came out of the worst i have ever seen he surely doesn't know how to\"\n",
            "  \"not very  comfortable at all costs i know that jim o'connor was very disappointed the buttons on the other person to ask\"\n",
            "  \"it could  not recommend this item to anyone the holster it doesn't work here the visual effects were awful the cg opening\"\n",
            "  \"i go  backwe've have gotten a defect but i really wanted the plantronics 510 to be a reasonable explanation for this chick\"\n",
            "  'some cheesy  clichés thrown into an abandoned factory ready for a few seconds into the case is a bit of a movie'\n",
            "  'i really  wanted the plantronics 510 to be a reasonable explanation for this chick that he expected it to be a reasonable'\n",
            "  \"in the  proceedings is totally implausible and unconvincing and if someone orders two tacos don't' you think it would crack with use\"\n",
            "  \"of such  a film that is screened in the proceedings is totally implausible and unconvincing and if someone orders two tacos don't'\"\n",
            "  'waited and  waited and waited and waited and waited and waited and waited and waited and waited and waited and waited and'\n",
            "  'this place  is not a good way i swung in to give them zero stars i would not recommend this item to'\n",
            "  'slow and  centers in a good way i swung in to give them zero stars i would not recommend this item to'\n",
            "  'looks cheap  and cheerless heist movie with bad writing and here they come in a good way i swung in to give'\n",
            "  'the fondue  it was a bit of a movie that is screened in the proceedings is totally implausible and unconvincing and if'\n",
            "  \"wasn't anything  at all costs i know that jim o'connor was very disappointed the buttons on the other person to ask to\"\n",
            "  \"for lunch  and the food was mediocre i will not be back here worst food service i've had this bluetoooth headset for\"\n",
            "  'was very  disappointed the buttons on the other person to ask to break up walked in and tracked everywhere pile of green'\n",
            "  \"pg 13  film and i had to pull out the window for nothing up or overcome fear and rejection it's so bad\"\n",
            "  'it only  worked once thats when i opened the sandwich i was not a good way i swung in to give them'\n",
            "  \"would not  recommend this item to anyone the holster it doesn't work here the visual effects were awful the cg opening sequence\"\n",
            "  'fear of  losing i q i guess i should have been to hard rock casino before will never ever step forward in'\n",
            "  \"there and  make sense of this practice it's aggravating none of the worst i have ever seen he surely doesn't know how\"\n",
            "  \"has too  many close ups but other than that the ending is like experiencing an underwhelming relationship where both parties can't wait\"\n",
            "  'wasted to  show mediocre elderly actors awkwardly babbling overwrought pseudo satanic gibberish corny enough to make a complete overhaul we recently witnessed'\n",
            "  'sidelined by  the time the film a truly truly bad film the football scenes at the time the film a truly truly'\n",
            "  \"last 3  times i don't think i've ever had a few seconds into the case is a bit of a movie that\"\n",
            "  \"us ryan's  bar is definitely one of the worst i have ever seen he surely doesn't know how to string together narrative\"\n",
            "  '8 vacant  tables and we were ok or even masterful i can only rinse not take a minor character from a restaurant'\n",
            "  'hate those  things as much as this film is not a good way i swung in to give them zero stars i'\n",
            "  \"which are  small and not very comfortable at all costs i know that jim o'connor was very disappointed the buttons on the\"\n",
            "  'completed things  happen characters personalities change plot twists occur for no reason whatsoever vehicles that looked like she was quite pathetic the'\n",
            "  'an area  that had 5 bars i was not a good way i swung in to give them zero stars i would'\n",
            "  \"due to  the list of wonderfully terrible movies it's just not impressed with strip steak i have ever seen he surely doesn't\"\n",
            "  'their boba  and it was a bit of a movie that is screened in the proceedings is totally implausible and unconvincing and'\n",
            "  'the time  the film a truly truly bad film the football scenes at the time the film a truly truly bad film'\n",
            "  'the show  would begin with smart ass ed comments to each other that would be the worst i have ever seen he'\n",
            "  \"unpredictable youthful  energy but honestly i found this headset's microphone was very disappointed the buttons on the other person to ask to\"\n",
            "  'them hell  you barely can understand them this movie is a bit of a movie that is screened in the proceedings is'\n",
            "  \"disappointing dining  experience never been to hard rock casino before will never ever step forward in it i found this headset's microphone\"]]\n"
          ],
          "name": "stdout"
        }
      ]
    },
    {
      "cell_type": "code",
      "metadata": {
        "colab": {
          "base_uri": "https://localhost:8080/",
          "height": 1000
        },
        "id": "SZMohUsRzbuS",
        "outputId": "2c3a4d57-90e7-4523-ae1a-9f57d89e55d7"
      },
      "source": [
        "classifier = pickle.load(open('NewSentimentModel.pkl', 'rb'))\n",
        "y_pred = classifier.predict(generated_negative_text)\n",
        "# print(y_pred)\n",
        "# MyshowAllScores(np.zeros(nb),y_pred)\n",
        "\n",
        "# classifier = pickle.load(open('SentimentModel.pkl', 'rb'))\n",
        "# y_pred = classifier.predict(generated_negative_text)\n",
        "# print(y_pred)\n",
        "# MyshowAllScores(np.zeros(nb),y_pred)\n",
        "\n",
        "scores = []\n",
        "for i in range(5):\n",
        "  idx = np.random.randint(0, 100, 20);\n",
        "  sample = np.array(generated_negative_text)[idx]\n",
        "  y_pred = classifier.predict(sample)\n",
        "  print(y_pred)\n",
        "  MyshowAllScores(np.zeros(20),y_pred)\n",
        "  scores.append(accuracy_score(np.zeros(20), y_pred))\n",
        "\n",
        "print(scores)\n",
        "print(np.average(scores))\n",
        "print(np.nanstd(scores))"
      ],
      "execution_count": 81,
      "outputs": [
        {
          "output_type": "stream",
          "text": [
            "[0 0 0 1 0 1 0 0 0 0 0 0 0 1 0 1 1 0 0 1 0 0 1 0 1 1 0 1 0 0 0 0 0 1 0 0 1\n",
            " 1 0 0 0 1 0 1 1 0 0 0 0 0 1 0 0 0 0 0 1 1 1 0 0 0 0 0 0 0 0 0 0 0 1 0 0 0\n",
            " 0 0 0 0 0 0 0 0 0 1 0 1 1 0 0 0 0 0 0 1 0 0 0 0 0 0]\n",
            "Accuracy : 0.750\n",
            "Classification Report\n",
            "              precision    recall  f1-score   support\n",
            "\n",
            "         0.0    1.00000   0.75000   0.85714       100\n",
            "         1.0    0.00000   0.00000   0.00000         0\n",
            "\n",
            "    accuracy                        0.75000       100\n",
            "   macro avg    0.50000   0.37500   0.42857       100\n",
            "weighted avg    1.00000   0.75000   0.85714       100\n",
            "\n"
          ],
          "name": "stdout"
        },
        {
          "output_type": "stream",
          "text": [
            "/usr/local/lib/python3.7/dist-packages/sklearn/metrics/_classification.py:1272: UndefinedMetricWarning: Recall and F-score are ill-defined and being set to 0.0 in labels with no true samples. Use `zero_division` parameter to control this behavior.\n",
            "  _warn_prf(average, modifier, msg_start, len(result))\n"
          ],
          "name": "stderr"
        },
        {
          "output_type": "display_data",
          "data": {
            "image/png": "[encoded data removed]",
            "text/plain": [
              "<Figure size 576x360 with 2 Axes>"
            ]
          },
          "metadata": {
            "tags": []
          }
        },
        {
          "output_type": "stream",
          "text": [
            "[0 0 0 0 0 1 0 0 0 0 0 0 0 0 0 0 0 0 0 0 0 0 0 0 0 0 0 0 0 0 0 0 0 0 0 0 0\n",
            " 0 0 1 0 0 0 0 0 0 0 0 0 0 0 0 0 0 0 0 0 0 0 0 0 0 0 0 0 0 0 0 0 0 0 0 0 0\n",
            " 0 0 0 0 0 0 0 0 0 0 0 0 0 0 0 0 0 0 0 0 0 0 0 0 0 0]\n",
            "Accuracy : 0.980\n",
            "Classification Report\n",
            "              precision    recall  f1-score   support\n",
            "\n",
            "         0.0    1.00000   0.98000   0.98990       100\n",
            "         1.0    0.00000   0.00000   0.00000         0\n",
            "\n",
            "    accuracy                        0.98000       100\n",
            "   macro avg    0.50000   0.49000   0.49495       100\n",
            "weighted avg    1.00000   0.98000   0.98990       100\n",
            "\n"
          ],
          "name": "stdout"
        },
        {
          "output_type": "stream",
          "text": [
            "/usr/local/lib/python3.7/dist-packages/sklearn/metrics/_classification.py:1272: UndefinedMetricWarning: Recall and F-score are ill-defined and being set to 0.0 in labels with no true samples. Use `zero_division` parameter to control this behavior.\n",
            "  _warn_prf(average, modifier, msg_start, len(result))\n"
          ],
          "name": "stderr"
        },
        {
          "output_type": "display_data",
          "data": {
            "image/png": "[encoded data removed]",
            "text/plain": [
              "<Figure size 576x360 with 2 Axes>"
            ]
          },
          "metadata": {
            "tags": []
          }
        }
      ]
    },
    {
      "cell_type": "markdown",
      "metadata": {
        "id": "n7_igky236d3"
      },
      "source": [
        "**Mixte**"
      ]
    },
    {
      "cell_type": "code",
      "metadata": {
        "colab": {
          "base_uri": "https://localhost:8080/",
          "height": 1000
        },
        "id": "bPA88MU63_JC",
        "outputId": "b50cd415-c008-496c-9498-9c2cb31e7264"
      },
      "source": [
        "y_true = np.concatenate( (np.ones(int(nb/2)),np.zeros(int(nb/2))), axis=0)\n",
        "\n",
        "idx = np.random.randint(0, 100, 50);\n",
        "x_test = np.concatenate( (np.array(generated_text)[idx], np.array(generated_negative_text)[idx] ), axis=0)\n",
        "\n",
        "classifier = pickle.load(open('NewSentimentModel.pkl', 'rb'))\n",
        "# y_pred = classifier.predict(x_test)\n",
        "# print(y_pred)\n",
        "# MyshowAllScores(y_true,y_pred)\n",
        "\n",
        "# classifier = pickle.load(open('SentimentModel.pkl', 'rb'))\n",
        "# y_pred = classifier.predict(x_test)\n",
        "# print(y_pred)\n",
        "# MyshowAllScores(y_true,y_pred)\n",
        "\n",
        "scores = []\n",
        "for i in range(5):\n",
        "  idx = np.random.randint(0, 100, 20);\n",
        "  sample = x_test[idx]\n",
        "  sample_true = y_true[idx]\n",
        "  y_pred = classifier.predict(sample)\n",
        "  print(y_pred)\n",
        "  MyshowAllScores(sample_true,y_pred)\n",
        "  scores.append(accuracy_score(sample_true, y_pred))\n",
        "\n",
        "print(scores)\n",
        "print(np.average(scores))\n",
        "print(np.nanstd(scores))"
      ],
      "execution_count": 85,
      "outputs": [
        {
          "output_type": "stream",
          "text": [
            "[0 1 0 1 0 0 0 0 0 1 0 1 1 1 0 1 0 0 1 0]\n",
            "Accuracy : 0.700\n",
            "Classification Report\n",
            "              precision    recall  f1-score   support\n",
            "\n",
            "         0.0    0.58333   0.87500   0.70000         8\n",
            "         1.0    0.87500   0.58333   0.70000        12\n",
            "\n",
            "    accuracy                        0.70000        20\n",
            "   macro avg    0.72917   0.72917   0.70000        20\n",
            "weighted avg    0.75833   0.70000   0.70000        20\n",
            "\n"
          ],
          "name": "stdout"
        },
        {
          "output_type": "display_data",
          "data": {
            "image/png": "[encoded data removed]",
            "text/plain": [
              "<Figure size 576x360 with 2 Axes>"
            ]
          },
          "metadata": {
            "tags": []
          }
        },
        {
          "output_type": "stream",
          "text": [
            "[0 1 0 1 0 0 1 0 0 1 1 0 1 1 0 0 1 0 0 0]\n",
            "Accuracy : 0.700\n",
            "Classification Report\n",
            "              precision    recall  f1-score   support\n",
            "\n",
            "         0.0    0.58333   0.87500   0.70000         8\n",
            "         1.0    0.87500   0.58333   0.70000        12\n",
            "\n",
            "    accuracy                        0.70000        20\n",
            "   macro avg    0.72917   0.72917   0.70000        20\n",
            "weighted avg    0.75833   0.70000   0.70000        20\n",
            "\n"
          ],
          "name": "stdout"
        },
        {
          "output_type": "display_data",
          "data": {
            "image/png": "[encoded data removed]",
            "text/plain": [
              "<Figure size 576x360 with 2 Axes>"
            ]
          },
          "metadata": {
            "tags": []
          }
        },
        {
          "output_type": "stream",
          "text": [
            "[0 1 0 1 1 1 1 1 1 0 0 1 1 0 0 0 1 1 0 0]\n",
            "Accuracy : 0.850\n",
            "Classification Report\n",
            "              precision    recall  f1-score   support\n",
            "\n",
            "         0.0    0.88889   0.80000   0.84211        10\n",
            "         1.0    0.81818   0.90000   0.85714        10\n",
            "\n",
            "    accuracy                        0.85000        20\n",
            "   macro avg    0.85354   0.85000   0.84962        20\n",
            "weighted avg    0.85354   0.85000   0.84962        20\n",
            "\n"
          ],
          "name": "stdout"
        },
        {
          "output_type": "display_data",
          "data": {
            "image/png": "[encoded data removed]",
            "text/plain": [
              "<Figure size 576x360 with 2 Axes>"
            ]
          },
          "metadata": {
            "tags": []
          }
        },
        {
          "output_type": "stream",
          "text": [
            "[0 0 1 1 0 1 1 1 0 0 1 0 0 0 1 1 0 0 1 0]\n",
            "Accuracy : 0.750\n",
            "Classification Report\n",
            "              precision    recall  f1-score   support\n",
            "\n",
            "         0.0    0.72727   0.80000   0.76190        10\n",
            "         1.0    0.77778   0.70000   0.73684        10\n",
            "\n",
            "    accuracy                        0.75000        20\n",
            "   macro avg    0.75253   0.75000   0.74937        20\n",
            "weighted avg    0.75253   0.75000   0.74937        20\n",
            "\n"
          ],
          "name": "stdout"
        },
        {
          "output_type": "display_data",
          "data": {
            "image/png": "[encoded data removed]",
            "text/plain": [
              "<Figure size 576x360 with 2 Axes>"
            ]
          },
          "metadata": {
            "tags": []
          }
        },
        {
          "output_type": "stream",
          "text": [
            "[1 0 0 1 1 0 0 1 0 0 1 1 0 1 1 1 0 1 0 0]\n",
            "Accuracy : 0.850\n",
            "Classification Report\n",
            "              precision    recall  f1-score   support\n",
            "\n",
            "         0.0    0.70000   1.00000   0.82353         7\n",
            "         1.0    1.00000   0.76923   0.86957        13\n",
            "\n",
            "    accuracy                        0.85000        20\n",
            "   macro avg    0.85000   0.88462   0.84655        20\n",
            "weighted avg    0.89500   0.85000   0.85345        20\n",
            "\n"
          ],
          "name": "stdout"
        },
        {
          "output_type": "display_data",
          "data": {
            "image/png": "[encoded data removed]",
            "text/plain": [
              "<Figure size 576x360 with 2 Axes>"
            ]
          },
          "metadata": {
            "tags": []
          }
        },
        {
          "output_type": "stream",
          "text": [
            "[0.7, 0.7, 0.85, 0.75, 0.85]\n",
            "0.77\n",
            "0.06782329983125268\n"
          ],
          "name": "stdout"
        }
      ]
    }
  ]
}